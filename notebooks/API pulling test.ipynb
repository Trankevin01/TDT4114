{
 "cells": [
  {
   "cell_type": "code",
   "execution_count": 10,
   "metadata": {},
   "outputs": [
    {
     "name": "stdout",
     "output_type": "stream",
     "text": [
      "========================================\n",
      "📍 Værmelding for Trondheim, Trøndelag, Norge 63.4304475 10.3952118\n",
      "🕒 Tidspunkt: 2025-03-03 13:00:00 UTC\n",
      "🌡 Temperatur: 5.6°C\n",
      "💨 Vindhastighet: 8.6 m/s\n",
      "🌧 Nedbør (neste time): 0.5 mm\n",
      "🌊 Lufttrykk: 999.4 hPa\n",
      "💧 Luftfuktighet: 81.9%\n",
      "========================================\n",
      "Data lagret i weather_data.json)\n"
     ]
    }
   ],
   "source": [
    "import requests\n",
    "import json\n",
    "from datetime import datetime\n",
    "from geopy.geocoders import Nominatim\n",
    "from geopy.adapters import RequestsAdapter\n",
    "import os\n",
    "import certifi\n",
    "\n",
    "# Sett opp SSL-sertifikat for å unngå feilmelding\n",
    "os.environ[\"SSL_CERT_FILE\"] = certifi.where()\n",
    "\n",
    "# Bruk Geopy til å finne breddegrad og lengdegrad for en by\n",
    "geolocator = Nominatim(user_agent=\"Dataanalyseapplikasjon\")\n",
    "location = geolocator.geocode(input(\"Hvilken by vil du ha værmelding for? Skriv på formen By,Land: \"))\n",
    "if not location:\n",
    "    print(f\"Fant ikke byen. Sjekk stavemåte og prøv igjen.\")\n",
    "    exit()\n",
    "\n",
    "# Definer API-endepunkt og parametere\n",
    "url = \"https://api.met.no/weatherapi/locationforecast/2.0/compact\"\n",
    "params = {\n",
    "    \"lat\": location.latitude,       # Breddegrad for utvalgt by\n",
    "    \"lon\": location.longitude       # Lengdegrad for utvalgt by\n",
    "}\n",
    "\n",
    "# User-Agent er påkrevd av Yr\n",
    "headers = {\n",
    "    \"User-Agent\": \"Miljoedataanalyseapplikasjon/0.1 (fredbm@stud.ntnu.no)\"\n",
    "}\n",
    "\n",
    "\n",
    "# Gjør API-kallet\n",
    "response = requests.get(url, headers=headers, params=params)\n",
    "\n",
    "# Sjekk om forespørselen var vellykket\n",
    "if response.status_code == 200:\n",
    "    data = response.json()\n",
    "\n",
    "    # Hent ut den nyeste værprognosen\n",
    "    forecast = data[\"properties\"][\"timeseries\"][0]\n",
    "    time = forecast[\"time\"]\n",
    "    details = forecast[\"data\"][\"instant\"][\"details\"]\n",
    "\n",
    "    # Formater dataene\n",
    "    temperature = details[\"air_temperature\"]\n",
    "    wind_speed = details[\"wind_speed\"]\n",
    "    precipitation = forecast[\"data\"].get(\"next_1_hours\", {}).get(\"details\", {}).get(\"precipitation_amount\", 0)\n",
    "    presssure = details.get(\"air_pressure_at_sea_level\", \"Ikke tilgjengelig\")\n",
    "    humidity = details.get(\"relative_humidity\", \"Ikke tilgjengelig\")\n",
    "    \n",
    "    # Konverter tidspunkt til leselig format\n",
    "    time_formatted = datetime.fromisoformat(time.replace(\"Z\", \"+00:00\")).strftime(\"%Y-%m-%d %H:%M:%S\")\n",
    "\n",
    "    # Print værdata på en ryddig måte\n",
    "    print(\"=\" * 40)\n",
    "    print(f\"📍 Værmelding for\",location.address ,location.latitude, location.longitude)\n",
    "    print(f\"🕒 Tidspunkt: {time_formatted} UTC\")\n",
    "    print(f\"🌡 Temperatur: {temperature}°C\")\n",
    "    print(f\"💨 Vindhastighet: {wind_speed} m/s\")\n",
    "    print(f\"🌧 Nedbør (neste time): {precipitation} mm\")\n",
    "    print(f\"🌊 Lufttrykk: {presssure} hPa\")\n",
    "    print(f\"💧 Luftfuktighet: {humidity}%\")\n",
    "    print(\"=\" * 40)\n",
    "    \n",
    "    weather_data ={\n",
    "        \"latitude\": location.latitude,\n",
    "        \"longitude\": location.longitude,\n",
    "        \"timestamps\": time_formatted,\n",
    "        \"temperature\": temperature,\n",
    "        \"wind_speed\": wind_speed,\n",
    "        \"precipitation\": precipitation,\n",
    "        \"pressure\": presssure,\n",
    "        \"humidity\": humidity\n",
    "    }\n",
    "\n",
    "    with open(\"weather_data.json\", \"w\") as f:\n",
    "        json.dump(weather_data, f, indent=4)\n",
    "    print(\"Data lagret i weather_data.json)\")\n",
    "else:\n",
    "    print(f\"Feil: {response.status_code} - {response.text}\")\n",
    "\n",
    "\n",
    "\n"
   ]
  },
  {
   "cell_type": "code",
   "execution_count": 18,
   "metadata": {},
   "outputs": [
    {
     "name": "stdout",
     "output_type": "stream",
     "text": [
      "Gjennomsnitt: 5.60°C, Median: 5.60°C, Standardavvik: 0.00°C\n"
     ]
    }
   ],
   "source": [
    "import numpy as np\n",
    "import pandas as pd\n",
    "import json\n",
    "\n",
    "# Last inn JSON-data\n",
    "with open(\"weather_data.json\", \"r\", encoding=\"utf-8\") as f:\n",
    "    data = json.load(f)\n",
    "\n",
    "# Konverter til Pandas DataFrame\n",
    "df = pd.DataFrame([data])  # Legger dataen inn i en liste for å skape en DataFrame\n",
    "\n",
    "# Beregn statistiske mål\n",
    "avg_temp = np.mean(df[\"temperature\"])\n",
    "median_temp = np.median(df[\"temperature\"])\n",
    "std_temp = np.std(df[\"temperature\"])\n",
    "\n",
    "print(f\"Gjennomsnitt: {avg_temp:.2f}°C, Median: {median_temp:.2f}°C, Standardavvik: {std_temp:.2f}°C\")\n",
    "\n"
   ]
  },
  {
   "cell_type": "code",
   "execution_count": null,
   "metadata": {},
   "outputs": [],
   "source": [
    "\n"
   ]
  }
 ],
 "metadata": {
  "kernelspec": {
   "display_name": "venv",
   "language": "python",
   "name": "python3"
  },
  "language_info": {
   "codemirror_mode": {
    "name": "ipython",
    "version": 3
   },
   "file_extension": ".py",
   "mimetype": "text/x-python",
   "name": "python",
   "nbconvert_exporter": "python",
   "pygments_lexer": "ipython3",
   "version": "3.13.1"
  }
 },
 "nbformat": 4,
 "nbformat_minor": 2
}
