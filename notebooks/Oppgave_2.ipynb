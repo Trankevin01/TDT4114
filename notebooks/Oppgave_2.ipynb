{
 "cells": [
  {
   "cell_type": "code",
   "execution_count": 1,
   "metadata": {},
   "outputs": [
    {
     "name": "stdout",
     "output_type": "stream",
     "text": [
      "10\n"
     ]
    }
   ],
   "source": [
    "print(2*5)"
   ]
  },
  {
   "cell_type": "code",
   "execution_count": 3,
   "metadata": {},
   "outputs": [
    {
     "name": "stdout",
     "output_type": "stream",
     "text": [
      "Exact value: 403.4287934927351\n",
      "Approximation for N=10: 386.2342857142857\n",
      "Approximation for N=15: 403.2234085914086\n",
      "Approximation for N=20: 403.42820646067776\n",
      "Error for N=10: 17.194508\n",
      "Error for N=15: 0.205385\n",
      "Error for N=20: 0.000587\n"
     ]
    }
   ],
   "source": [
    "import math\n",
    "\n",
    "def exponentialTaylorPolynomial(N, x):\n",
    "    value = sum((x**n) / math.factorial(n) for n in range(N+1))\n",
    "    return value\n",
    "\n",
    "exact_value = math.exp(6)\n",
    "\n",
    "approx_value_10 = exponentialTaylorPolynomial(10, 6)\n",
    "approx_value_15 = exponentialTaylorPolynomial(15, 6)\n",
    "approx_value_20 = exponentialTaylorPolynomial(20, 6)\n",
    "\n",
    "error1 = round(abs(exact_value - approx_value_10), 6)\n",
    "error2 = round(abs(exact_value - approx_value_15), 6)\n",
    "error3 = round(abs(exact_value - approx_value_20), 6)\n",
    "\n",
    "print(f\"Exact value: {exact_value}\")\n",
    "print(f\"Approximation for N=10: {approx_value_10}\")\n",
    "print(f\"Approximation for N=15: {approx_value_15}\")\n",
    "print(f\"Approximation for N=20: {approx_value_20}\")\n",
    "\n",
    "print(f\"Error for N=10: {error1}\")\n",
    "print(f\"Error for N=15: {error2}\")\n",
    "print(f\"Error for N=20: {error3}\")"
   ]
  }
 ],
 "metadata": {
  "kernelspec": {
   "display_name": "venv",
   "language": "python",
   "name": "python3"
  },
  "language_info": {
   "codemirror_mode": {
    "name": "ipython",
    "version": 3
   },
   "file_extension": ".py",
   "mimetype": "text/x-python",
   "name": "python",
   "nbconvert_exporter": "python",
   "pygments_lexer": "ipython3",
   "version": "3.13.1"
  }
 },
 "nbformat": 4,
 "nbformat_minor": 2
}
