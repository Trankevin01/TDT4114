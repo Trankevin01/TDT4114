{
 "cells": [
  {
   "cell_type": "code",
   "execution_count": 1,
   "metadata": {},
   "outputs": [
    {
     "name": "stdout",
     "output_type": "stream",
     "text": [
      "Antall vandringer fra A til B:\n",
      "Lengde 1: 1\n",
      "Lengde 2: 2\n",
      "Lengde 3: 6\n",
      "Totalt antall vandringer fra A til B: 9\n"
     ]
    }
   ],
   "source": [
    "import numpy as np\n",
    "\n",
    "# Nabomatrise (eksempel fra graf b: A, B, C, D)\n",
    "A = np.array([\n",
    "    [0,1,0,0,0,0,1,1],  # A\n",
    "    [1,0,1,0,0,0,1,1],  # B\n",
    "    [0,1,0,1,1,1,0,0],  # C\n",
    "    [0,0,1,0,1,1,0,0],  # D\n",
    "    [0,0,1,1,0,0,0,0],  # E\n",
    "    [0,0,1,1,0,0,0,0],  # F\n",
    "    [1,1,0,0,0,0,0,0],  # G\n",
    "    [1,1,0,0,0,0,0,0], # H\n",
    "])\n",
    "\n",
    "# Hvilke noder (bruk indeks: A=0, B=1, osv.)\n",
    "fra = 0  # A\n",
    "til = 1  # B\n",
    "\n",
    "# Vandringer av lengde 1\n",
    "vandring_1 = A[fra, til]\n",
    "\n",
    "# Vandringer av lengde 2\n",
    "A2 = np.linalg.matrix_power(A, 2)\n",
    "vandring_2 = A2[fra, til]\n",
    "\n",
    "# Vandringer av lengde 3\n",
    "A3 = np.linalg.matrix_power(A, 3)\n",
    "vandring_3 = A3[fra, til]\n",
    "\n",
    "print(f\"Antall vandringer fra A til B:\")\n",
    "print(f\"Lengde 1: {vandring_1}\")\n",
    "print(f\"Lengde 2: {vandring_2}\")\n",
    "print(f\"Lengde 3: {vandring_3}\")\n",
    "print(f\"Totalt antall vandringer fra A til B: {vandring_1 + vandring_2 + vandring_3}\")\n"
   ]
  }
 ],
 "metadata": {
  "kernelspec": {
   "display_name": "venv",
   "language": "python",
   "name": "python3"
  },
  "language_info": {
   "codemirror_mode": {
    "name": "ipython",
    "version": 3
   },
   "file_extension": ".py",
   "mimetype": "text/x-python",
   "name": "python",
   "nbconvert_exporter": "python",
   "pygments_lexer": "ipython3",
   "version": "3.13.1"
  }
 },
 "nbformat": 4,
 "nbformat_minor": 2
}
